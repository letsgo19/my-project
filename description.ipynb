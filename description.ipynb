{
 "cells": [
  {
   "cell_type": "markdown",
   "metadata": {},
   "source": [
    "Requrements/Speficiations:\n",
    "1. Requires token from file named \"secret.txt\", which cannot be uploaded to a public repository (GitHub). For this project, the secret file will be included with the zip file. If the key is exposed, the token will be invalidated and the code will receive unathorized access error.\n",
    "\n",
    "Short Description:\n",
    "- I originally tried to make chatbot for checking someone's ranks but It is way harder than I thought. so I changed mind to mamke simple chatbot that will return that I entered value.\n",
    "- This chatbot has two functions one of them is when I type input value that I had saved chatbot is going to reply. second function is chatbot calls top tv shows based on the information from the rotten tomato site. \n",
    "\n",
    "Directions:\n",
    "You need to execute my code first and login discord, then it will show you chatbot. The bot will respond to the follwoing inputs and respond with these answers: (input : response) \n",
    "    - hi or hello  : sup bro!\n",
    "    - what are you doing? : I am here to help you\n",
    "    - do you want to hangout with me? : nah, I need to go to bed\n",
    "    - can you speak korean? : 노 아임 어메리칸\n",
    "    - who are you? : I am a errand boy\n",
    "    - top tv shows : shows top 10 tv shows from rottentomate website\n",
    "    - connect : change your status offline to online\n",
    "    - logout : change the status online to the offline\n",
    " "
   ]
  },
  {
   "cell_type": "markdown",
   "metadata": {},
   "source": [
    "fix this file up then download it and place it in ur my-project folder on ur computer then zip that folder and upload that zipped file to canvas\n",
    "\n"
   ]
  }
 ],
 "metadata": {
  "kernelspec": {
   "display_name": "Python 3",
   "language": "python",
   "name": "python3"
  },
  "language_info": {
   "codemirror_mode": {
    "name": "ipython",
    "version": 3
   },
   "file_extension": ".py",
   "mimetype": "text/x-python",
   "name": "python",
   "nbconvert_exporter": "python",
   "pygments_lexer": "ipython3",
   "version": "3.6.7"
  }
 },
 "nbformat": 4,
 "nbformat_minor": 2
}
